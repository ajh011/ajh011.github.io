{
 "cells": [
  {
   "cell_type": "code",
   "execution_count": 1,
   "id": "ef492643",
   "metadata": {},
   "outputs": [],
   "source": [
    "from qiskit import *"
   ]
  },
  {
   "cell_type": "code",
   "execution_count": 2,
   "id": "443a3693",
   "metadata": {},
   "outputs": [],
   "source": [
    "from qiskit.visualization import *"
   ]
  },
  {
   "cell_type": "code",
   "execution_count": 3,
   "id": "59b4a704",
   "metadata": {},
   "outputs": [],
   "source": [
    "from qiskit.circuit.library import QFT"
   ]
  },
  {
   "cell_type": "code",
   "execution_count": 4,
   "id": "1fa63a5c",
   "metadata": {},
   "outputs": [],
   "source": [
    "from numpy import *"
   ]
  },
  {
   "cell_type": "code",
   "execution_count": 5,
   "id": "726dffa6",
   "metadata": {},
   "outputs": [],
   "source": [
    "backend = BasicAer.get_backend('qasm_simulator')"
   ]
  },
  {
   "cell_type": "code",
   "execution_count": 6,
   "id": "88f4720c",
   "metadata": {},
   "outputs": [],
   "source": [
    "peT = QuantumCircuit(3)"
   ]
  },
  {
   "cell_type": "code",
   "execution_count": 7,
   "id": "3e6fe302",
   "metadata": {},
   "outputs": [],
   "source": [
    "peT.add_register(QuantumRegister(1,'qr'))"
   ]
  },
  {
   "cell_type": "code",
   "execution_count": null,
   "id": "79e4c9f8",
   "metadata": {},
   "outputs": [],
   "source": []
  },
  {
   "cell_type": "code",
   "execution_count": 8,
   "id": "e57c360e",
   "metadata": {},
   "outputs": [
    {
     "data": {
      "text/plain": [
       "<qiskit.circuit.instructionset.InstructionSet at 0x7fb841f46e80>"
      ]
     },
     "execution_count": 8,
     "metadata": {},
     "output_type": "execute_result"
    }
   ],
   "source": [
    "peT.x(3)"
   ]
  },
  {
   "cell_type": "code",
   "execution_count": 9,
   "id": "336bbc9d",
   "metadata": {},
   "outputs": [],
   "source": [
    "for qubit in range(3):\n",
    "    peT.h(qubit)"
   ]
  },
  {
   "cell_type": "code",
   "execution_count": 10,
   "id": "2e500e2c",
   "metadata": {},
   "outputs": [
    {
     "data": {
      "text/html": [
       "<pre style=\"word-wrap: normal;white-space: pre;background: #fff0;line-height: 1.1;font-family: &quot;Courier New&quot;,Courier,monospace\">      ┌───┐\n",
       " q_0: ┤ H ├\n",
       "      ├───┤\n",
       " q_1: ┤ H ├\n",
       "      ├───┤\n",
       " q_2: ┤ H ├\n",
       "      ├───┤\n",
       "qr_0: ┤ X ├\n",
       "      └───┘</pre>"
      ],
      "text/plain": [
       "      ┌───┐\n",
       " q_0: ┤ H ├\n",
       "      ├───┤\n",
       " q_1: ┤ H ├\n",
       "      ├───┤\n",
       " q_2: ┤ H ├\n",
       "      ├───┤\n",
       "qr_0: ┤ X ├\n",
       "      └───┘"
      ]
     },
     "execution_count": 10,
     "metadata": {},
     "output_type": "execute_result"
    }
   ],
   "source": [
    "peT.draw()"
   ]
  },
  {
   "cell_type": "code",
   "execution_count": 11,
   "id": "3d0fb74b",
   "metadata": {},
   "outputs": [],
   "source": [
    "repetitions = 1"
   ]
  },
  {
   "cell_type": "code",
   "execution_count": 12,
   "id": "aa3559dc",
   "metadata": {},
   "outputs": [],
   "source": [
    "for counting_qubit in range(3):\n",
    "    for i in range(repetitions):\n",
    "        peT.cp(3*pi/4, counting_qubit, 3)\n",
    "    repetitions *= 2"
   ]
  },
  {
   "cell_type": "code",
   "execution_count": 13,
   "id": "3e8050bf",
   "metadata": {},
   "outputs": [
    {
     "data": {
      "text/html": [
       "<pre style=\"word-wrap: normal;white-space: pre;background: #fff0;line-height: 1.1;font-family: &quot;Courier New&quot;,Courier,monospace\">      ┌───┐                                                            »\n",
       " q_0: ┤ H ├─■──────────────────────────────────────────────────────────»\n",
       "      ├───┤ │                                                          »\n",
       " q_1: ┤ H ├─┼─────────■─────────■──────────────────────────────────────»\n",
       "      ├───┤ │         │         │                                      »\n",
       " q_2: ┤ H ├─┼─────────┼─────────┼─────────■─────────■─────────■────────»\n",
       "      ├───┤ │P(3π/4)  │P(3π/4)  │P(3π/4)  │P(3π/4)  │P(3π/4)  │P(3π/4) »\n",
       "qr_0: ┤ X ├─■─────────■─────────■─────────■─────────■─────────■────────»\n",
       "      └───┘                                                            »\n",
       "«                \n",
       "« q_0: ──────────\n",
       "«                \n",
       "« q_1: ──────────\n",
       "«                \n",
       "« q_2: ─■────────\n",
       "«       │P(3π/4) \n",
       "«qr_0: ─■────────\n",
       "«                </pre>"
      ],
      "text/plain": [
       "      ┌───┐                                                            »\n",
       " q_0: ┤ H ├─■──────────────────────────────────────────────────────────»\n",
       "      ├───┤ │                                                          »\n",
       " q_1: ┤ H ├─┼─────────■─────────■──────────────────────────────────────»\n",
       "      ├───┤ │         │         │                                      »\n",
       " q_2: ┤ H ├─┼─────────┼─────────┼─────────■─────────■─────────■────────»\n",
       "      ├───┤ │P(3π/4)  │P(3π/4)  │P(3π/4)  │P(3π/4)  │P(3π/4)  │P(3π/4) »\n",
       "qr_0: ┤ X ├─■─────────■─────────■─────────■─────────■─────────■────────»\n",
       "      └───┘                                                            »\n",
       "«                \n",
       "« q_0: ──────────\n",
       "«                \n",
       "« q_1: ──────────\n",
       "«                \n",
       "« q_2: ─■────────\n",
       "«       │P(3π/4) \n",
       "«qr_0: ─■────────\n",
       "«                "
      ]
     },
     "execution_count": 13,
     "metadata": {},
     "output_type": "execute_result"
    }
   ],
   "source": [
    "peT.draw()"
   ]
  },
  {
   "cell_type": "code",
   "execution_count": 14,
   "id": "ac6e3f68",
   "metadata": {},
   "outputs": [],
   "source": [
    "qftinv = QFT(3, inverse=True)"
   ]
  },
  {
   "cell_type": "code",
   "execution_count": 15,
   "id": "24eaad9a",
   "metadata": {},
   "outputs": [
    {
     "data": {
      "text/html": [
       "<pre style=\"word-wrap: normal;white-space: pre;background: #fff0;line-height: 1.1;font-family: &quot;Courier New&quot;,Courier,monospace\">        ┌───┐                                        \n",
       "q_0: ─X─┤ H ├─■──────────────■───────────────────────\n",
       "      │ └───┘ │P(-π/2) ┌───┐ │                       \n",
       "q_1: ─┼───────■────────┤ H ├─┼─────────■─────────────\n",
       "      │                └───┘ │P(-π/4)  │P(-π/2) ┌───┐\n",
       "q_2: ─X──────────────────────■─────────■────────┤ H ├\n",
       "                                                └───┘</pre>"
      ],
      "text/plain": [
       "        ┌───┐                                        \n",
       "q_0: ─X─┤ H ├─■──────────────■───────────────────────\n",
       "      │ └───┘ │P(-π/2) ┌───┐ │                       \n",
       "q_1: ─┼───────■────────┤ H ├─┼─────────■─────────────\n",
       "      │                └───┘ │P(-π/4)  │P(-π/2) ┌───┐\n",
       "q_2: ─X──────────────────────■─────────■────────┤ H ├\n",
       "                                                └───┘"
      ]
     },
     "execution_count": 15,
     "metadata": {},
     "output_type": "execute_result"
    }
   ],
   "source": [
    "qftinv.draw()"
   ]
  },
  {
   "cell_type": "code",
   "execution_count": 16,
   "id": "3ddab623",
   "metadata": {},
   "outputs": [],
   "source": [
    "qftinv.add_register(QuantumRegister(1,'qr'))"
   ]
  },
  {
   "cell_type": "code",
   "execution_count": 17,
   "id": "222e4127",
   "metadata": {},
   "outputs": [],
   "source": [
    "qftinv.add_register(ClassicalRegister(3))"
   ]
  },
  {
   "cell_type": "code",
   "execution_count": 18,
   "id": "3f9779d1",
   "metadata": {},
   "outputs": [
    {
     "data": {
      "text/html": [
       "<pre style=\"word-wrap: normal;white-space: pre;background: #fff0;line-height: 1.1;font-family: &quot;Courier New&quot;,Courier,monospace\">         ┌───┐                                        \n",
       " q_0: ─X─┤ H ├─■──────────────■───────────────────────\n",
       "       │ └───┘ │P(-π/2) ┌───┐ │                       \n",
       " q_1: ─┼───────■────────┤ H ├─┼─────────■─────────────\n",
       "       │                └───┘ │P(-π/4)  │P(-π/2) ┌───┐\n",
       " q_2: ─X──────────────────────■─────────■────────┤ H ├\n",
       "                                                 └───┘\n",
       "qr_0: ────────────────────────────────────────────────\n",
       "                                                      \n",
       "c0: 3/════════════════════════════════════════════════\n",
       "                                                      </pre>"
      ],
      "text/plain": [
       "         ┌───┐                                        \n",
       " q_0: ─X─┤ H ├─■──────────────■───────────────────────\n",
       "       │ └───┘ │P(-π/2) ┌───┐ │                       \n",
       " q_1: ─┼───────■────────┤ H ├─┼─────────■─────────────\n",
       "       │                └───┘ │P(-π/4)  │P(-π/2) ┌───┐\n",
       " q_2: ─X──────────────────────■─────────■────────┤ H ├\n",
       "                                                 └───┘\n",
       "qr_0: ────────────────────────────────────────────────\n",
       "                                                      \n",
       "c0: 3/════════════════════════════════════════════════\n",
       "                                                      "
      ]
     },
     "execution_count": 18,
     "metadata": {},
     "output_type": "execute_result"
    }
   ],
   "source": [
    "qftinv.draw()"
   ]
  },
  {
   "cell_type": "code",
   "execution_count": 19,
   "id": "2634e49d",
   "metadata": {},
   "outputs": [
    {
     "name": "stderr",
     "output_type": "stream",
     "text": [
      "/tmp/ipykernel_8554/1987650100.py:1: DeprecationWarning: The QuantumCircuit.__add__() method is being deprecated.Use the compose() method which is more flexible w.r.t circuit register compatibility.\n",
      "  peT = peT + qftinv\n",
      "/home/al/.local/lib/python3.9/site-packages/qiskit/circuit/quantumcircuit.py:869: DeprecationWarning: The QuantumCircuit.combine() method is being deprecated. Use the compose() method which is more flexible w.r.t circuit register compatibility.\n",
      "  return self.combine(rhs)\n"
     ]
    }
   ],
   "source": [
    "peT = peT + qftinv"
   ]
  },
  {
   "cell_type": "code",
   "execution_count": 20,
   "id": "c590c8a2",
   "metadata": {},
   "outputs": [
    {
     "data": {
      "text/html": [
       "<pre style=\"word-wrap: normal;white-space: pre;background: #fff0;line-height: 1.1;font-family: &quot;Courier New&quot;,Courier,monospace\">      ┌───┐                                                            »\n",
       " q_0: ┤ H ├─■──────────────────────────────────────────────────────────»\n",
       "      ├───┤ │                                                          »\n",
       " q_1: ┤ H ├─┼─────────■─────────■──────────────────────────────────────»\n",
       "      ├───┤ │         │         │                                      »\n",
       " q_2: ┤ H ├─┼─────────┼─────────┼─────────■─────────■─────────■────────»\n",
       "      ├───┤ │P(3π/4)  │P(3π/4)  │P(3π/4)  │P(3π/4)  │P(3π/4)  │P(3π/4) »\n",
       "qr_0: ┤ X ├─■─────────■─────────■─────────■─────────■─────────■────────»\n",
       "      └───┘                                                            »\n",
       "c0: 3/═════════════════════════════════════════════════════════════════»\n",
       "                                                                       »\n",
       "«                   ┌───┐                                        \n",
       "« q_0: ───────────X─┤ H ├─■──────────────■───────────────────────\n",
       "«                 │ └───┘ │P(-π/2) ┌───┐ │                       \n",
       "« q_1: ───────────┼───────■────────┤ H ├─┼─────────■─────────────\n",
       "«                 │                └───┘ │P(-π/4)  │P(-π/2) ┌───┐\n",
       "« q_2: ─■─────────X──────────────────────■─────────■────────┤ H ├\n",
       "«       │P(3π/4)                                            └───┘\n",
       "«qr_0: ─■────────────────────────────────────────────────────────\n",
       "«                                                                \n",
       "«c0: 3/══════════════════════════════════════════════════════════\n",
       "«                                                                </pre>"
      ],
      "text/plain": [
       "      ┌───┐                                                            »\n",
       " q_0: ┤ H ├─■──────────────────────────────────────────────────────────»\n",
       "      ├───┤ │                                                          »\n",
       " q_1: ┤ H ├─┼─────────■─────────■──────────────────────────────────────»\n",
       "      ├───┤ │         │         │                                      »\n",
       " q_2: ┤ H ├─┼─────────┼─────────┼─────────■─────────■─────────■────────»\n",
       "      ├───┤ │P(3π/4)  │P(3π/4)  │P(3π/4)  │P(3π/4)  │P(3π/4)  │P(3π/4) »\n",
       "qr_0: ┤ X ├─■─────────■─────────■─────────■─────────■─────────■────────»\n",
       "      └───┘                                                            »\n",
       "c0: 3/═════════════════════════════════════════════════════════════════»\n",
       "                                                                       »\n",
       "«                   ┌───┐                                        \n",
       "« q_0: ───────────X─┤ H ├─■──────────────■───────────────────────\n",
       "«                 │ └───┘ │P(-π/2) ┌───┐ │                       \n",
       "« q_1: ───────────┼───────■────────┤ H ├─┼─────────■─────────────\n",
       "«                 │                └───┘ │P(-π/4)  │P(-π/2) ┌───┐\n",
       "« q_2: ─■─────────X──────────────────────■─────────■────────┤ H ├\n",
       "«       │P(3π/4)                                            └───┘\n",
       "«qr_0: ─■────────────────────────────────────────────────────────\n",
       "«                                                                \n",
       "«c0: 3/══════════════════════════════════════════════════════════\n",
       "«                                                                "
      ]
     },
     "execution_count": 20,
     "metadata": {},
     "output_type": "execute_result"
    }
   ],
   "source": [
    "peT.draw()"
   ]
  },
  {
   "cell_type": "code",
   "execution_count": 21,
   "id": "b98e0667",
   "metadata": {},
   "outputs": [],
   "source": [
    "for i in range(3):\n",
    "    peT.measure(i,i)"
   ]
  },
  {
   "cell_type": "code",
   "execution_count": 22,
   "id": "76a7104c",
   "metadata": {},
   "outputs": [
    {
     "data": {
      "image/png": "[encoded data removed]",
      "text/plain": [
       "<Figure size 1599.96x686.28 with 1 Axes>"
      ]
     },
     "execution_count": 22,
     "metadata": {},
     "output_type": "execute_result"
    },
    {
     "data": {
      "image/png": "[encoded data removed]",
      "text/plain": [
       "<Figure size 1599.96x686.28 with 1 Axes>"
      ]
     },
     "metadata": {},
     "output_type": "display_data"
    }
   ],
   "source": [
    "peT.draw(output='mpl')"
   ]
  },
  {
   "cell_type": "code",
   "execution_count": 23,
   "id": "2e0926b5",
   "metadata": {},
   "outputs": [],
   "source": [
    "t_peT = transpile(peT, backend)"
   ]
  },
  {
   "cell_type": "code",
   "execution_count": 24,
   "id": "a2489869",
   "metadata": {},
   "outputs": [],
   "source": [
    "peTobj = assemble(t_peT, shots = 2048)"
   ]
  },
  {
   "cell_type": "code",
   "execution_count": 25,
   "id": "9da21215",
   "metadata": {},
   "outputs": [],
   "source": [
    "results = backend.run(peTobj).result()"
   ]
  },
  {
   "cell_type": "code",
   "execution_count": 26,
   "id": "7e241ced",
   "metadata": {},
   "outputs": [
    {
     "data": {
      "image/png": "[encoded data removed]",
      "text/plain": [
       "<Figure size 504x360 with 1 Axes>"
      ]
     },
     "execution_count": 26,
     "metadata": {},
     "output_type": "execute_result"
    },
    {
     "data": {
      "image/png": "[encoded data removed]",
      "text/plain": [
       "<Figure size 504x360 with 1 Axes>"
      ]
     },
     "metadata": {
      "needs_background": "light"
     },
     "output_type": "display_data"
    }
   ],
   "source": [
    "plot_histogram(results.get_counts())"
   ]
  },
  {
   "cell_type": "code",
   "execution_count": null,
   "id": "ef9cd842",
   "metadata": {},
   "outputs": [],
   "source": []
  }
 ],
 "metadata": {
  "kernelspec": {
   "display_name": "Python 3 (ipykernel)",
   "language": "python",
   "name": "python3"
  },
  "language_info": {
   "codemirror_mode": {
    "name": "ipython",
    "version": 3
   },
   "file_extension": ".py",
   "mimetype": "text/x-python",
   "name": "python",
   "nbconvert_exporter": "python",
   "pygments_lexer": "ipython3",
   "version": "3.9.6"
  }
 },
 "nbformat": 4,
 "nbformat_minor": 5
}
