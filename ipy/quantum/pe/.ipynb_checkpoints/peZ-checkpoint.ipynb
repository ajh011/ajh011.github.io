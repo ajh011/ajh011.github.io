{
 "cells": [
  {
   "cell_type": "code",
   "execution_count": 1,
   "id": "ef492643",
   "metadata": {},
   "outputs": [],
   "source": [
    "from qiskit import *"
   ]
  },
  {
   "cell_type": "code",
   "execution_count": 2,
   "id": "443a3693",
   "metadata": {},
   "outputs": [],
   "source": [
    "from qiskit.visualization import *"
   ]
  },
  {
   "cell_type": "code",
   "execution_count": 3,
   "id": "59b4a704",
   "metadata": {},
   "outputs": [],
   "source": [
    "from qiskit.circuit.library import QFT"
   ]
  },
  {
   "cell_type": "code",
   "execution_count": 4,
   "id": "1fa63a5c",
   "metadata": {},
   "outputs": [],
   "source": [
    "from numpy import *"
   ]
  },
  {
   "cell_type": "code",
   "execution_count": 5,
   "id": "726dffa6",
   "metadata": {},
   "outputs": [],
   "source": [
    "backend = BasicAer.get_backend('qasm_simulator')"
   ]
  },
  {
   "cell_type": "code",
   "execution_count": 6,
   "id": "88f4720c",
   "metadata": {},
   "outputs": [],
   "source": [
    "peZ = QuantumCircuit(1)"
   ]
  },
  {
   "cell_type": "code",
   "execution_count": 7,
   "id": "3e6fe302",
   "metadata": {},
   "outputs": [],
   "source": [
    "peZ.add_register(QuantumRegister(1,'qr'))"
   ]
  },
  {
   "cell_type": "code",
   "execution_count": 8,
   "id": "79e4c9f8",
   "metadata": {},
   "outputs": [],
   "source": [
    "peZ.add_register(ClassicalRegister(1))"
   ]
  },
  {
   "cell_type": "code",
   "execution_count": 9,
   "id": "e57c360e",
   "metadata": {},
   "outputs": [
    {
     "data": {
      "text/plain": [
       "<qiskit.circuit.instructionset.InstructionSet at 0x7f4a5f7f1520>"
      ]
     },
     "execution_count": 9,
     "metadata": {},
     "output_type": "execute_result"
    }
   ],
   "source": [
    "peZ.h(0)"
   ]
  },
  {
   "cell_type": "code",
   "execution_count": 10,
   "id": "336bbc9d",
   "metadata": {},
   "outputs": [
    {
     "data": {
      "text/plain": [
       "<qiskit.circuit.instructionset.InstructionSet at 0x7f4a1bb24b50>"
      ]
     },
     "execution_count": 10,
     "metadata": {},
     "output_type": "execute_result"
    }
   ],
   "source": [
    "peZ.x(1)"
   ]
  },
  {
   "cell_type": "code",
   "execution_count": 11,
   "id": "2e500e2c",
   "metadata": {},
   "outputs": [
    {
     "data": {
      "text/html": [
       "<pre style=\"word-wrap: normal;white-space: pre;background: #fff0;line-height: 1.1;font-family: &quot;Courier New&quot;,Courier,monospace\">      ┌───┐\n",
       " q_0: ┤ H ├\n",
       "      ├───┤\n",
       "qr_0: ┤ X ├\n",
       "      └───┘\n",
       "c0: 1/═════\n",
       "           </pre>"
      ],
      "text/plain": [
       "      ┌───┐\n",
       " q_0: ┤ H ├\n",
       "      ├───┤\n",
       "qr_0: ┤ X ├\n",
       "      └───┘\n",
       "c0: 1/═════\n",
       "           "
      ]
     },
     "execution_count": 11,
     "metadata": {},
     "output_type": "execute_result"
    }
   ],
   "source": [
    "peZ.draw()"
   ]
  },
  {
   "cell_type": "code",
   "execution_count": 12,
   "id": "3d0fb74b",
   "metadata": {},
   "outputs": [
    {
     "data": {
      "text/plain": [
       "<qiskit.circuit.instructionset.InstructionSet at 0x7f4a1bad6070>"
      ]
     },
     "execution_count": 12,
     "metadata": {},
     "output_type": "execute_result"
    }
   ],
   "source": [
    "peZ.cz(0,1)"
   ]
  },
  {
   "cell_type": "code",
   "execution_count": 13,
   "id": "aa3559dc",
   "metadata": {},
   "outputs": [
    {
     "data": {
      "text/plain": [
       "<qiskit.circuit.instructionset.InstructionSet at 0x7f4a1bad6460>"
      ]
     },
     "execution_count": 13,
     "metadata": {},
     "output_type": "execute_result"
    }
   ],
   "source": [
    "peZ.h(0)"
   ]
  },
  {
   "cell_type": "code",
   "execution_count": 14,
   "id": "3e8050bf",
   "metadata": {},
   "outputs": [
    {
     "data": {
      "text/plain": [
       "<qiskit.circuit.instructionset.InstructionSet at 0x7f4a1bad6310>"
      ]
     },
     "execution_count": 14,
     "metadata": {},
     "output_type": "execute_result"
    }
   ],
   "source": [
    "peZ.measure(0,0)"
   ]
  },
  {
   "cell_type": "code",
   "execution_count": null,
   "id": "ac6e3f68",
   "metadata": {},
   "outputs": [],
   "source": []
  },
  {
   "cell_type": "code",
   "execution_count": null,
   "id": "24eaad9a",
   "metadata": {},
   "outputs": [],
   "source": []
  },
  {
   "cell_type": "code",
   "execution_count": null,
   "id": "3ddab623",
   "metadata": {},
   "outputs": [],
   "source": []
  },
  {
   "cell_type": "code",
   "execution_count": null,
   "id": "222e4127",
   "metadata": {},
   "outputs": [],
   "source": []
  },
  {
   "cell_type": "code",
   "execution_count": null,
   "id": "3f9779d1",
   "metadata": {},
   "outputs": [],
   "source": []
  },
  {
   "cell_type": "code",
   "execution_count": null,
   "id": "2634e49d",
   "metadata": {},
   "outputs": [],
   "source": []
  },
  {
   "cell_type": "code",
   "execution_count": null,
   "id": "c590c8a2",
   "metadata": {},
   "outputs": [],
   "source": []
  },
  {
   "cell_type": "code",
   "execution_count": null,
   "id": "b98e0667",
   "metadata": {},
   "outputs": [],
   "source": []
  },
  {
   "cell_type": "code",
   "execution_count": 15,
   "id": "76a7104c",
   "metadata": {},
   "outputs": [
    {
     "data": {
      "image/png": "[encoded data removed]",
      "text/plain": [
       "<Figure size 335.76x204.68 with 1 Axes>"
      ]
     },
     "execution_count": 15,
     "metadata": {},
     "output_type": "execute_result"
    }
   ],
   "source": [
    "peZ.draw(output='mpl')"
   ]
  },
  {
   "cell_type": "code",
   "execution_count": 16,
   "id": "2e0926b5",
   "metadata": {},
   "outputs": [],
   "source": [
    "t_peZ = transpile(peZ, backend)"
   ]
  },
  {
   "cell_type": "code",
   "execution_count": 17,
   "id": "a2489869",
   "metadata": {},
   "outputs": [],
   "source": [
    "peZobj = assemble(t_peZ, shots = 2048)"
   ]
  },
  {
   "cell_type": "code",
   "execution_count": 18,
   "id": "9da21215",
   "metadata": {},
   "outputs": [],
   "source": [
    "results = backend.run(peZobj).result()"
   ]
  },
  {
   "cell_type": "code",
   "execution_count": 19,
   "id": "7e241ced",
   "metadata": {},
   "outputs": [
    {
     "data": {
      "image/png": "[encoded data removed]",
      "text/plain": [
       "<Figure size 504x360 with 1 Axes>"
      ]
     },
     "execution_count": 19,
     "metadata": {},
     "output_type": "execute_result"
    }
   ],
   "source": [
    "plot_histogram(results.get_counts())"
   ]
  },
  {
   "cell_type": "code",
   "execution_count": null,
   "id": "ef9cd842",
   "metadata": {},
   "outputs": [],
   "source": []
  }
 ],
 "metadata": {
  "kernelspec": {
   "display_name": "Python 3",
   "language": "python",
   "name": "python3"
  },
  "language_info": {
   "codemirror_mode": {
    "name": "ipython",
    "version": 3
   },
   "file_extension": ".py",
   "mimetype": "text/x-python",
   "name": "python",
   "nbconvert_exporter": "python",
   "pygments_lexer": "ipython3",
   "version": "3.9.5"
  }
 },
 "nbformat": 4,
 "nbformat_minor": 5
}
